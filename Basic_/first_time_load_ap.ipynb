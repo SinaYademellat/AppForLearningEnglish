{
 "cells": [
  {
   "cell_type": "code",
   "execution_count": 12,
   "metadata": {},
   "outputs": [],
   "source": [
    "from Lernkartei_data_structure import Lernkartei_word\n",
    "import pickle"
   ]
  },
  {
   "cell_type": "code",
   "execution_count": 10,
   "metadata": {},
   "outputs": [
    {
     "name": "stdout",
     "output_type": "stream",
     "text": [
      "mytestfile\\.pkl\n"
     ]
    }
   ],
   "source": [
    "# Exampel for how use diractior for pkl file\n",
    "\n",
    "import os\n",
    "# ----  << set path >> \n",
    "\n",
    "filename = \"mytestfile\"\n",
    "mypath = os.path.join(filename, \".pkl\")\n",
    "print (mypath)"
   ]
  },
  {
   "cell_type": "code",
   "execution_count": 18,
   "metadata": {},
   "outputs": [],
   "source": [
    "class FisrtTimeLoad:\n",
    "    def __init__(self,path_of_pkl_file_as_Db:str) -> None:\n",
    "        \n",
    "        self Path_for_pkl_file_as_Db = path_of_pkl_file_as_Db\n",
    "        \n",
    "        for box_number in range(6):\n",
    "            test_word_is = Lernkartei_word(Txt = f'Txt_box{box_number+1}' ,Collocations=f'Collocations_box{box_number+1}' ,Status=box_number+1)\n",
    "            temp_list   = [test_word_is]\n",
    "\n",
    "            # Saving \n",
    "            # ----  << set path >>             \n",
    "            mypath = os.path.join(path_of_pkl_file_as_Db, f'Box_{box_number+1}.pkl')\n",
    "            # print(mypath) #: db_pkl\\Box_1.pkl\n",
    "            with open(mypath, 'wb') as outp:\n",
    "                pickle.dump(temp_list, outp, pickle.HIGHEST_PROTOCOL)\n",
    "            del temp_list "
   ]
  },
  {
   "cell_type": "code",
   "execution_count": 21,
   "metadata": {},
   "outputs": [],
   "source": [
    "p = FisrtTimeLoad('db_pkl')"
   ]
  },
  {
   "cell_type": "markdown",
   "metadata": {},
   "source": [
    "# Load one it"
   ]
  },
  {
   "cell_type": "code",
   "execution_count": null,
   "metadata": {},
   "outputs": [],
   "source": [
    "# Loading\n",
    "\n",
    " mypath = os.path.join(path_of_pkl_file_as_Db, f'Box_{box_number+1}.pkl')\n",
    "\n",
    "list_of_Word_is = []\n",
    "with open('Box_1.pkl', 'rb') as inp:\n",
    "    list_of_Word_is = pickle.load(inp)\n",
    "\n",
    "# -------------------------------\n",
    "print('len: ',len(list_of_Word_is))\n",
    "first_item_is  = list_of_Word_is[0]"
   ]
  }
 ],
 "metadata": {
  "kernelspec": {
   "display_name": "Python 3",
   "language": "python",
   "name": "python3"
  },
  "language_info": {
   "codemirror_mode": {
    "name": "ipython",
    "version": 3
   },
   "file_extension": ".py",
   "mimetype": "text/x-python",
   "name": "python",
   "nbconvert_exporter": "python",
   "pygments_lexer": "ipython3",
   "version": "3.10.1"
  }
 },
 "nbformat": 4,
 "nbformat_minor": 2
}
