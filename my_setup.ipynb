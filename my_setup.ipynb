{
 "cells": [
  {
   "cell_type": "code",
   "execution_count": 1,
   "metadata": {},
   "outputs": [],
   "source": [
    "from Lernkartei_data_structure import Lernkartei_word"
   ]
  },
  {
   "cell_type": "markdown",
   "metadata": {},
   "source": [
    "# نحوه اضافه کردن داکیومنت کافی به کتابخومه شخصی"
   ]
  },
  {
   "cell_type": "code",
   "execution_count": 2,
   "metadata": {},
   "outputs": [
    {
     "name": "stdout",
     "output_type": "stream",
     "text": [
      "Help on class Lernkartei_word in module Lernkartei_data_structure:\n",
      "\n",
      "class Lernkartei_word(builtins.object)\n",
      " |  Lernkartei_word(Txt: str, Collocations: str = None, Status: int = None) -> None\n",
      " |  \n",
      " |  سلام\n",
      " |  \n",
      " |  Methods defined here:\n",
      " |  \n",
      " |  Save_in_txt(self)\n",
      " |  \n",
      " |  __init__(self, Txt: str, Collocations: str = None, Status: int = None) -> None\n",
      " |      _summary_\n",
      " |      \n",
      " |      Args:\n",
      " |          Txt (str): _description_\n",
      " |          Status (int):\n",
      " |              day 1  : ==> 1\n",
      " |              day 2  : ==> 2\n",
      " |              day 3  : ==> 3\n",
      " |              week 1 : ==> 4\n",
      " |              week 2 : ==> 5\n",
      " |              Months : ==> 6\n",
      " |  \n",
      " |  __repr__(self)\n",
      " |      Return repr(self).\n",
      " |  \n",
      " |  ----------------------------------------------------------------------\n",
      " |  Data descriptors defined here:\n",
      " |  \n",
      " |  __dict__\n",
      " |      dictionary for instance variables (if defined)\n",
      " |  \n",
      " |  __weakref__\n",
      " |      list of weak references to the object (if defined)\n",
      "\n"
     ]
    }
   ],
   "source": [
    "help(Lernkartei_word)"
   ]
  },
  {
   "cell_type": "code",
   "execution_count": 3,
   "metadata": {},
   "outputs": [
    {
     "data": {
      "text/plain": [
       "mappingproxy({'__module__': 'Lernkartei_data_structure',\n",
       "              '__doc__': '\\n     سلام \\n    ',\n",
       "              '__init__': <function Lernkartei_data_structure.Lernkartei_word.__init__(self, Txt: str, Collocations: str = None, Status: int = None) -> None>,\n",
       "              'Save_in_txt': <function Lernkartei_data_structure.Lernkartei_word.Save_in_txt(self)>,\n",
       "              '__repr__': <function Lernkartei_data_structure.Lernkartei_word.__repr__(self)>,\n",
       "              '__dict__': <attribute '__dict__' of 'Lernkartei_word' objects>,\n",
       "              '__weakref__': <attribute '__weakref__' of 'Lernkartei_word' objects>})"
      ]
     },
     "execution_count": 3,
     "metadata": {},
     "output_type": "execute_result"
    }
   ],
   "source": [
    "Lernkartei_word.__dict__"
   ]
  },
  {
   "cell_type": "markdown",
   "metadata": {},
   "source": [
    "# تست"
   ]
  },
  {
   "cell_type": "code",
   "execution_count": 4,
   "metadata": {},
   "outputs": [
    {
     "data": {
      "text/plain": [
       "\n",
       "                Txt = Txt_box1\n",
       "                col = Collocations_box1\n",
       "                sta = 1\n",
       "            "
      ]
     },
     "execution_count": 4,
     "metadata": {},
     "output_type": "execute_result"
    }
   ],
   "source": [
    "test_word_is = Lernkartei_word(Txt='Txt_box1' , Collocations='Collocations_box1' , Status=1)\n",
    "\n",
    "test_word_is"
   ]
  },
  {
   "cell_type": "code",
   "execution_count": 12,
   "metadata": {},
   "outputs": [],
   "source": [
    "temp_list   = [test_word_is]"
   ]
  },
  {
   "cell_type": "markdown",
   "metadata": {},
   "source": [
    "##  PKL"
   ]
  },
  {
   "cell_type": "code",
   "execution_count": 6,
   "metadata": {},
   "outputs": [],
   "source": [
    "import pickle"
   ]
  },
  {
   "cell_type": "code",
   "execution_count": 13,
   "metadata": {},
   "outputs": [],
   "source": [
    "# Saving \n",
    "\n",
    "with open('Box_1.pkl', 'wb') as outp:\n",
    "    pickle.dump(temp_list, outp, pickle.HIGHEST_PROTOCOL)\n",
    "\n",
    "del temp_list \n"
   ]
  },
  {
   "cell_type": "code",
   "execution_count": 14,
   "metadata": {},
   "outputs": [
    {
     "name": "stdout",
     "output_type": "stream",
     "text": [
      "len:  1\n"
     ]
    }
   ],
   "source": [
    "# Loading\n",
    "\n",
    "list_of_Word_is = []\n",
    "with open('Box_1.pkl', 'rb') as inp:\n",
    "    list_of_Word_is = pickle.load(inp)\n",
    "\n",
    "# -------------------------------\n",
    "print('len: ',len(list_of_Word_is))\n",
    "first_item_is  = list_of_Word_is[0]"
   ]
  },
  {
   "cell_type": "code",
   "execution_count": 8,
   "metadata": {},
   "outputs": [
    {
     "data": {
      "text/plain": [
       "\n",
       "                Txt = Txt_box1\n",
       "                col = Collocations_box1\n",
       "                sta = 1\n",
       "            "
      ]
     },
     "execution_count": 8,
     "metadata": {},
     "output_type": "execute_result"
    }
   ],
   "source": [
    "first_item_is"
   ]
  }
 ],
 "metadata": {
  "kernelspec": {
   "display_name": "Python 3",
   "language": "python",
   "name": "python3"
  },
  "language_info": {
   "codemirror_mode": {
    "name": "ipython",
    "version": 3
   },
   "file_extension": ".py",
   "mimetype": "text/x-python",
   "name": "python",
   "nbconvert_exporter": "python",
   "pygments_lexer": "ipython3",
   "version": "3.10.1"
  }
 },
 "nbformat": 4,
 "nbformat_minor": 2
}
